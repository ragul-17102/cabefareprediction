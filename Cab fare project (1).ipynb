{
 "cells": [
  {
   "cell_type": "code",
   "execution_count": 1,
   "id": "a7082ccc",
   "metadata": {},
   "outputs": [],
   "source": [
    "import numpy as np\n",
    "import pandas as pd\n",
    "import matplotlib.pyplot as plt\n",
    "import seaborn as sns"
   ]
  },
  {
   "cell_type": "code",
   "execution_count": 2,
   "id": "94df1505",
   "metadata": {},
   "outputs": [],
   "source": [
    "train_data=pd.read_csv('D:/ML programs/DevIncept/Cab-Fare-Prediction-master/train_cab.csv', na_values={\"pickup_datetime\":\"43\"})\n",
    "test_data=pd.read_csv('D:/ML programs/DevIncept/Cab-Fare-Prediction-master/test.csv')"
   ]
  },
  {
   "cell_type": "code",
   "execution_count": 3,
   "id": "11804788",
   "metadata": {},
   "outputs": [
    {
     "data": {
      "text/html": [
       "<div>\n",
       "<style scoped>\n",
       "    .dataframe tbody tr th:only-of-type {\n",
       "        vertical-align: middle;\n",
       "    }\n",
       "\n",
       "    .dataframe tbody tr th {\n",
       "        vertical-align: top;\n",
       "    }\n",
       "\n",
       "    .dataframe thead th {\n",
       "        text-align: right;\n",
       "    }\n",
       "</style>\n",
       "<table border=\"1\" class=\"dataframe\">\n",
       "  <thead>\n",
       "    <tr style=\"text-align: right;\">\n",
       "      <th></th>\n",
       "      <th>fare_amount</th>\n",
       "      <th>pickup_datetime</th>\n",
       "      <th>pickup_longitude</th>\n",
       "      <th>pickup_latitude</th>\n",
       "      <th>dropoff_longitude</th>\n",
       "      <th>dropoff_latitude</th>\n",
       "      <th>passenger_count</th>\n",
       "    </tr>\n",
       "  </thead>\n",
       "  <tbody>\n",
       "    <tr>\n",
       "      <th>0</th>\n",
       "      <td>4.5</td>\n",
       "      <td>2009-06-15 17:26:21 UTC</td>\n",
       "      <td>-73.844311</td>\n",
       "      <td>40.721319</td>\n",
       "      <td>-73.841610</td>\n",
       "      <td>40.712278</td>\n",
       "      <td>1.0</td>\n",
       "    </tr>\n",
       "    <tr>\n",
       "      <th>1</th>\n",
       "      <td>16.9</td>\n",
       "      <td>2010-01-05 16:52:16 UTC</td>\n",
       "      <td>-74.016048</td>\n",
       "      <td>40.711303</td>\n",
       "      <td>-73.979268</td>\n",
       "      <td>40.782004</td>\n",
       "      <td>1.0</td>\n",
       "    </tr>\n",
       "    <tr>\n",
       "      <th>2</th>\n",
       "      <td>5.7</td>\n",
       "      <td>2011-08-18 00:35:00 UTC</td>\n",
       "      <td>-73.982738</td>\n",
       "      <td>40.761270</td>\n",
       "      <td>-73.991242</td>\n",
       "      <td>40.750562</td>\n",
       "      <td>2.0</td>\n",
       "    </tr>\n",
       "    <tr>\n",
       "      <th>3</th>\n",
       "      <td>7.7</td>\n",
       "      <td>2012-04-21 04:30:42 UTC</td>\n",
       "      <td>-73.987130</td>\n",
       "      <td>40.733143</td>\n",
       "      <td>-73.991567</td>\n",
       "      <td>40.758092</td>\n",
       "      <td>1.0</td>\n",
       "    </tr>\n",
       "    <tr>\n",
       "      <th>4</th>\n",
       "      <td>5.3</td>\n",
       "      <td>2010-03-09 07:51:00 UTC</td>\n",
       "      <td>-73.968095</td>\n",
       "      <td>40.768008</td>\n",
       "      <td>-73.956655</td>\n",
       "      <td>40.783762</td>\n",
       "      <td>1.0</td>\n",
       "    </tr>\n",
       "  </tbody>\n",
       "</table>\n",
       "</div>"
      ],
      "text/plain": [
       "  fare_amount          pickup_datetime  pickup_longitude  pickup_latitude  \\\n",
       "0         4.5  2009-06-15 17:26:21 UTC        -73.844311        40.721319   \n",
       "1        16.9  2010-01-05 16:52:16 UTC        -74.016048        40.711303   \n",
       "2         5.7  2011-08-18 00:35:00 UTC        -73.982738        40.761270   \n",
       "3         7.7  2012-04-21 04:30:42 UTC        -73.987130        40.733143   \n",
       "4         5.3  2010-03-09 07:51:00 UTC        -73.968095        40.768008   \n",
       "\n",
       "   dropoff_longitude  dropoff_latitude  passenger_count  \n",
       "0         -73.841610         40.712278              1.0  \n",
       "1         -73.979268         40.782004              1.0  \n",
       "2         -73.991242         40.750562              2.0  \n",
       "3         -73.991567         40.758092              1.0  \n",
       "4         -73.956655         40.783762              1.0  "
      ]
     },
     "execution_count": 3,
     "metadata": {},
     "output_type": "execute_result"
    }
   ],
   "source": [
    "train_data.head()"
   ]
  },
  {
   "cell_type": "code",
   "execution_count": 4,
   "id": "bfd8c000",
   "metadata": {},
   "outputs": [
    {
     "name": "stdout",
     "output_type": "stream",
     "text": [
      "(16067, 7)\n",
      "(9914, 6)\n"
     ]
    }
   ],
   "source": [
    "print(train_data.shape)\n",
    "print(test_data.shape)"
   ]
  },
  {
   "cell_type": "code",
   "execution_count": 5,
   "id": "2da7ec39",
   "metadata": {},
   "outputs": [
    {
     "name": "stdout",
     "output_type": "stream",
     "text": [
      "<class 'pandas.core.frame.DataFrame'>\n",
      "RangeIndex: 16067 entries, 0 to 16066\n",
      "Data columns (total 7 columns):\n",
      " #   Column             Non-Null Count  Dtype  \n",
      "---  ------             --------------  -----  \n",
      " 0   fare_amount        16043 non-null  object \n",
      " 1   pickup_datetime    16066 non-null  object \n",
      " 2   pickup_longitude   16067 non-null  float64\n",
      " 3   pickup_latitude    16067 non-null  float64\n",
      " 4   dropoff_longitude  16067 non-null  float64\n",
      " 5   dropoff_latitude   16067 non-null  float64\n",
      " 6   passenger_count    16012 non-null  float64\n",
      "dtypes: float64(5), object(2)\n",
      "memory usage: 878.8+ KB\n"
     ]
    }
   ],
   "source": [
    "train_data.info()"
   ]
  },
  {
   "cell_type": "code",
   "execution_count": 6,
   "id": "c304e219",
   "metadata": {},
   "outputs": [
    {
     "data": {
      "text/plain": [
       "fare_amount          24\n",
       "pickup_datetime       1\n",
       "pickup_longitude      0\n",
       "pickup_latitude       0\n",
       "dropoff_longitude     0\n",
       "dropoff_latitude      0\n",
       "passenger_count      55\n",
       "dtype: int64"
      ]
     },
     "execution_count": 6,
     "metadata": {},
     "output_type": "execute_result"
    }
   ],
   "source": [
    "train_data.isnull().sum()"
   ]
  },
  {
   "cell_type": "code",
   "execution_count": 7,
   "id": "4db65cff",
   "metadata": {},
   "outputs": [
    {
     "data": {
      "text/html": [
       "<div>\n",
       "<style scoped>\n",
       "    .dataframe tbody tr th:only-of-type {\n",
       "        vertical-align: middle;\n",
       "    }\n",
       "\n",
       "    .dataframe tbody tr th {\n",
       "        vertical-align: top;\n",
       "    }\n",
       "\n",
       "    .dataframe thead th {\n",
       "        text-align: right;\n",
       "    }\n",
       "</style>\n",
       "<table border=\"1\" class=\"dataframe\">\n",
       "  <thead>\n",
       "    <tr style=\"text-align: right;\">\n",
       "      <th></th>\n",
       "      <th>pickup_longitude</th>\n",
       "      <th>pickup_latitude</th>\n",
       "      <th>dropoff_longitude</th>\n",
       "      <th>dropoff_latitude</th>\n",
       "      <th>passenger_count</th>\n",
       "    </tr>\n",
       "  </thead>\n",
       "  <tbody>\n",
       "    <tr>\n",
       "      <th>count</th>\n",
       "      <td>16067.000000</td>\n",
       "      <td>16067.000000</td>\n",
       "      <td>16067.000000</td>\n",
       "      <td>16067.000000</td>\n",
       "      <td>16012.000000</td>\n",
       "    </tr>\n",
       "    <tr>\n",
       "      <th>mean</th>\n",
       "      <td>-72.462787</td>\n",
       "      <td>39.914725</td>\n",
       "      <td>-72.462328</td>\n",
       "      <td>39.897906</td>\n",
       "      <td>2.625070</td>\n",
       "    </tr>\n",
       "    <tr>\n",
       "      <th>std</th>\n",
       "      <td>10.578384</td>\n",
       "      <td>6.826587</td>\n",
       "      <td>10.575062</td>\n",
       "      <td>6.187087</td>\n",
       "      <td>60.844122</td>\n",
       "    </tr>\n",
       "    <tr>\n",
       "      <th>min</th>\n",
       "      <td>-74.438233</td>\n",
       "      <td>-74.006893</td>\n",
       "      <td>-74.429332</td>\n",
       "      <td>-74.006377</td>\n",
       "      <td>0.000000</td>\n",
       "    </tr>\n",
       "    <tr>\n",
       "      <th>25%</th>\n",
       "      <td>-73.992156</td>\n",
       "      <td>40.734927</td>\n",
       "      <td>-73.991182</td>\n",
       "      <td>40.734651</td>\n",
       "      <td>1.000000</td>\n",
       "    </tr>\n",
       "    <tr>\n",
       "      <th>50%</th>\n",
       "      <td>-73.981698</td>\n",
       "      <td>40.752603</td>\n",
       "      <td>-73.980172</td>\n",
       "      <td>40.753567</td>\n",
       "      <td>1.000000</td>\n",
       "    </tr>\n",
       "    <tr>\n",
       "      <th>75%</th>\n",
       "      <td>-73.966838</td>\n",
       "      <td>40.767381</td>\n",
       "      <td>-73.963642</td>\n",
       "      <td>40.768014</td>\n",
       "      <td>2.000000</td>\n",
       "    </tr>\n",
       "    <tr>\n",
       "      <th>max</th>\n",
       "      <td>40.766125</td>\n",
       "      <td>401.083332</td>\n",
       "      <td>40.802437</td>\n",
       "      <td>41.366138</td>\n",
       "      <td>5345.000000</td>\n",
       "    </tr>\n",
       "  </tbody>\n",
       "</table>\n",
       "</div>"
      ],
      "text/plain": [
       "       pickup_longitude  pickup_latitude  dropoff_longitude  dropoff_latitude  \\\n",
       "count      16067.000000     16067.000000       16067.000000      16067.000000   \n",
       "mean         -72.462787        39.914725         -72.462328         39.897906   \n",
       "std           10.578384         6.826587          10.575062          6.187087   \n",
       "min          -74.438233       -74.006893         -74.429332        -74.006377   \n",
       "25%          -73.992156        40.734927         -73.991182         40.734651   \n",
       "50%          -73.981698        40.752603         -73.980172         40.753567   \n",
       "75%          -73.966838        40.767381         -73.963642         40.768014   \n",
       "max           40.766125       401.083332          40.802437         41.366138   \n",
       "\n",
       "       passenger_count  \n",
       "count     16012.000000  \n",
       "mean          2.625070  \n",
       "std          60.844122  \n",
       "min           0.000000  \n",
       "25%           1.000000  \n",
       "50%           1.000000  \n",
       "75%           2.000000  \n",
       "max        5345.000000  "
      ]
     },
     "execution_count": 7,
     "metadata": {},
     "output_type": "execute_result"
    }
   ],
   "source": [
    "train_data.describe()"
   ]
  },
  {
   "cell_type": "markdown",
   "id": "ce7fc520",
   "metadata": {},
   "source": [
    "## Operations on null values"
   ]
  },
  {
   "cell_type": "code",
   "execution_count": 8,
   "id": "ffb6e460",
   "metadata": {},
   "outputs": [],
   "source": [
    "train_data['pickup_datetime']=pd.to_datetime(train_data['pickup_datetime'],format='%Y-%m-%d %H:%M:%S UTC')"
   ]
  },
  {
   "cell_type": "code",
   "execution_count": 9,
   "id": "2e40407a",
   "metadata": {},
   "outputs": [],
   "source": [
    "train_data['year']=train_data['pickup_datetime'].dt.year\n",
    "train_data['month']=train_data['pickup_datetime'].dt.month\n",
    "train_data['date']=train_data['pickup_datetime'].dt.day\n",
    "train_data['day']=train_data['pickup_datetime'].dt.dayofweek\n",
    "train_data['hour']=train_data['pickup_datetime'].dt.hour\n",
    "train_data['minute']=train_data['pickup_datetime'].dt.minute"
   ]
  },
  {
   "cell_type": "code",
   "execution_count": 10,
   "id": "324a27d0",
   "metadata": {},
   "outputs": [
    {
     "data": {
      "text/html": [
       "<div>\n",
       "<style scoped>\n",
       "    .dataframe tbody tr th:only-of-type {\n",
       "        vertical-align: middle;\n",
       "    }\n",
       "\n",
       "    .dataframe tbody tr th {\n",
       "        vertical-align: top;\n",
       "    }\n",
       "\n",
       "    .dataframe thead th {\n",
       "        text-align: right;\n",
       "    }\n",
       "</style>\n",
       "<table border=\"1\" class=\"dataframe\">\n",
       "  <thead>\n",
       "    <tr style=\"text-align: right;\">\n",
       "      <th></th>\n",
       "      <th>fare_amount</th>\n",
       "      <th>pickup_datetime</th>\n",
       "      <th>pickup_longitude</th>\n",
       "      <th>pickup_latitude</th>\n",
       "      <th>dropoff_longitude</th>\n",
       "      <th>dropoff_latitude</th>\n",
       "      <th>passenger_count</th>\n",
       "      <th>year</th>\n",
       "      <th>month</th>\n",
       "      <th>date</th>\n",
       "      <th>day</th>\n",
       "      <th>hour</th>\n",
       "      <th>minute</th>\n",
       "    </tr>\n",
       "  </thead>\n",
       "  <tbody>\n",
       "    <tr>\n",
       "      <th>0</th>\n",
       "      <td>4.5</td>\n",
       "      <td>2009-06-15 17:26:21</td>\n",
       "      <td>-73.844311</td>\n",
       "      <td>40.721319</td>\n",
       "      <td>-73.841610</td>\n",
       "      <td>40.712278</td>\n",
       "      <td>1.0</td>\n",
       "      <td>2009.0</td>\n",
       "      <td>6.0</td>\n",
       "      <td>15.0</td>\n",
       "      <td>0.0</td>\n",
       "      <td>17.0</td>\n",
       "      <td>26.0</td>\n",
       "    </tr>\n",
       "    <tr>\n",
       "      <th>1</th>\n",
       "      <td>16.9</td>\n",
       "      <td>2010-01-05 16:52:16</td>\n",
       "      <td>-74.016048</td>\n",
       "      <td>40.711303</td>\n",
       "      <td>-73.979268</td>\n",
       "      <td>40.782004</td>\n",
       "      <td>1.0</td>\n",
       "      <td>2010.0</td>\n",
       "      <td>1.0</td>\n",
       "      <td>5.0</td>\n",
       "      <td>1.0</td>\n",
       "      <td>16.0</td>\n",
       "      <td>52.0</td>\n",
       "    </tr>\n",
       "    <tr>\n",
       "      <th>2</th>\n",
       "      <td>5.7</td>\n",
       "      <td>2011-08-18 00:35:00</td>\n",
       "      <td>-73.982738</td>\n",
       "      <td>40.761270</td>\n",
       "      <td>-73.991242</td>\n",
       "      <td>40.750562</td>\n",
       "      <td>2.0</td>\n",
       "      <td>2011.0</td>\n",
       "      <td>8.0</td>\n",
       "      <td>18.0</td>\n",
       "      <td>3.0</td>\n",
       "      <td>0.0</td>\n",
       "      <td>35.0</td>\n",
       "    </tr>\n",
       "    <tr>\n",
       "      <th>3</th>\n",
       "      <td>7.7</td>\n",
       "      <td>2012-04-21 04:30:42</td>\n",
       "      <td>-73.987130</td>\n",
       "      <td>40.733143</td>\n",
       "      <td>-73.991567</td>\n",
       "      <td>40.758092</td>\n",
       "      <td>1.0</td>\n",
       "      <td>2012.0</td>\n",
       "      <td>4.0</td>\n",
       "      <td>21.0</td>\n",
       "      <td>5.0</td>\n",
       "      <td>4.0</td>\n",
       "      <td>30.0</td>\n",
       "    </tr>\n",
       "    <tr>\n",
       "      <th>4</th>\n",
       "      <td>5.3</td>\n",
       "      <td>2010-03-09 07:51:00</td>\n",
       "      <td>-73.968095</td>\n",
       "      <td>40.768008</td>\n",
       "      <td>-73.956655</td>\n",
       "      <td>40.783762</td>\n",
       "      <td>1.0</td>\n",
       "      <td>2010.0</td>\n",
       "      <td>3.0</td>\n",
       "      <td>9.0</td>\n",
       "      <td>1.0</td>\n",
       "      <td>7.0</td>\n",
       "      <td>51.0</td>\n",
       "    </tr>\n",
       "  </tbody>\n",
       "</table>\n",
       "</div>"
      ],
      "text/plain": [
       "  fare_amount     pickup_datetime  pickup_longitude  pickup_latitude  \\\n",
       "0         4.5 2009-06-15 17:26:21        -73.844311        40.721319   \n",
       "1        16.9 2010-01-05 16:52:16        -74.016048        40.711303   \n",
       "2         5.7 2011-08-18 00:35:00        -73.982738        40.761270   \n",
       "3         7.7 2012-04-21 04:30:42        -73.987130        40.733143   \n",
       "4         5.3 2010-03-09 07:51:00        -73.968095        40.768008   \n",
       "\n",
       "   dropoff_longitude  dropoff_latitude  passenger_count    year  month  date  \\\n",
       "0         -73.841610         40.712278              1.0  2009.0    6.0  15.0   \n",
       "1         -73.979268         40.782004              1.0  2010.0    1.0   5.0   \n",
       "2         -73.991242         40.750562              2.0  2011.0    8.0  18.0   \n",
       "3         -73.991567         40.758092              1.0  2012.0    4.0  21.0   \n",
       "4         -73.956655         40.783762              1.0  2010.0    3.0   9.0   \n",
       "\n",
       "   day  hour  minute  \n",
       "0  0.0  17.0    26.0  \n",
       "1  1.0  16.0    52.0  \n",
       "2  3.0   0.0    35.0  \n",
       "3  5.0   4.0    30.0  \n",
       "4  1.0   7.0    51.0  "
      ]
     },
     "execution_count": 10,
     "metadata": {},
     "output_type": "execute_result"
    }
   ],
   "source": [
    "train_data.head()"
   ]
  },
  {
   "cell_type": "code",
   "execution_count": 11,
   "id": "64ed8b73",
   "metadata": {},
   "outputs": [
    {
     "data": {
      "text/plain": [
       "(16067, 13)"
      ]
     },
     "execution_count": 11,
     "metadata": {},
     "output_type": "execute_result"
    }
   ],
   "source": [
    "train_data.shape"
   ]
  },
  {
   "cell_type": "code",
   "execution_count": 12,
   "id": "8f9c0dd1",
   "metadata": {},
   "outputs": [],
   "source": [
    "#fare_amount is an object. Convert it into a numeric category\n",
    "train_data['fare_amount']=pd.to_numeric(train_data['fare_amount'],errors=\"coerce\")"
   ]
  },
  {
   "cell_type": "code",
   "execution_count": 13,
   "id": "8d737b55",
   "metadata": {},
   "outputs": [
    {
     "name": "stdout",
     "output_type": "stream",
     "text": [
      "<class 'pandas.core.frame.DataFrame'>\n",
      "RangeIndex: 16067 entries, 0 to 16066\n",
      "Data columns (total 13 columns):\n",
      " #   Column             Non-Null Count  Dtype         \n",
      "---  ------             --------------  -----         \n",
      " 0   fare_amount        16042 non-null  float64       \n",
      " 1   pickup_datetime    16066 non-null  datetime64[ns]\n",
      " 2   pickup_longitude   16067 non-null  float64       \n",
      " 3   pickup_latitude    16067 non-null  float64       \n",
      " 4   dropoff_longitude  16067 non-null  float64       \n",
      " 5   dropoff_latitude   16067 non-null  float64       \n",
      " 6   passenger_count    16012 non-null  float64       \n",
      " 7   year               16066 non-null  float64       \n",
      " 8   month              16066 non-null  float64       \n",
      " 9   date               16066 non-null  float64       \n",
      " 10  day                16066 non-null  float64       \n",
      " 11  hour               16066 non-null  float64       \n",
      " 12  minute             16066 non-null  float64       \n",
      "dtypes: datetime64[ns](1), float64(12)\n",
      "memory usage: 1.6 MB\n"
     ]
    }
   ],
   "source": [
    "train_data.info()"
   ]
  },
  {
   "cell_type": "code",
   "execution_count": 14,
   "id": "697db717",
   "metadata": {},
   "outputs": [],
   "source": [
    "test_data['pickup_datetime']=pd.to_datetime(test_data['pickup_datetime'],format='%Y-%m-%d %H:%M:%S UTC')"
   ]
  },
  {
   "cell_type": "code",
   "execution_count": 15,
   "id": "f3859239",
   "metadata": {},
   "outputs": [],
   "source": [
    "test_data['year']=test_data['pickup_datetime'].dt.year\n",
    "test_data['month']=test_data['pickup_datetime'].dt.month\n",
    "test_data['date']=test_data['pickup_datetime'].dt.day\n",
    "test_data['day']=test_data['pickup_datetime'].dt.dayofweek\n",
    "test_data['hour']=test_data['pickup_datetime'].dt.hour\n",
    "test_data['minute']=test_data['pickup_datetime'].dt.minute"
   ]
  },
  {
   "cell_type": "code",
   "execution_count": 16,
   "id": "c4cddec4",
   "metadata": {},
   "outputs": [
    {
     "name": "stdout",
     "output_type": "stream",
     "text": [
      "<class 'pandas.core.frame.DataFrame'>\n",
      "RangeIndex: 9914 entries, 0 to 9913\n",
      "Data columns (total 12 columns):\n",
      " #   Column             Non-Null Count  Dtype         \n",
      "---  ------             --------------  -----         \n",
      " 0   pickup_datetime    9914 non-null   datetime64[ns]\n",
      " 1   pickup_longitude   9914 non-null   float64       \n",
      " 2   pickup_latitude    9914 non-null   float64       \n",
      " 3   dropoff_longitude  9914 non-null   float64       \n",
      " 4   dropoff_latitude   9914 non-null   float64       \n",
      " 5   passenger_count    9914 non-null   int64         \n",
      " 6   year               9914 non-null   int64         \n",
      " 7   month              9914 non-null   int64         \n",
      " 8   date               9914 non-null   int64         \n",
      " 9   day                9914 non-null   int64         \n",
      " 10  hour               9914 non-null   int64         \n",
      " 11  minute             9914 non-null   int64         \n",
      "dtypes: datetime64[ns](1), float64(4), int64(7)\n",
      "memory usage: 929.6 KB\n"
     ]
    }
   ],
   "source": [
    "test_data.info()"
   ]
  },
  {
   "cell_type": "code",
   "execution_count": 17,
   "id": "ab825405",
   "metadata": {},
   "outputs": [
    {
     "data": {
      "text/plain": [
       "1"
      ]
     },
     "execution_count": 17,
     "metadata": {},
     "output_type": "execute_result"
    }
   ],
   "source": [
    "train_data['pickup_datetime'].isnull().sum()"
   ]
  },
  {
   "cell_type": "code",
   "execution_count": 18,
   "id": "5746816a",
   "metadata": {},
   "outputs": [
    {
     "name": "stdout",
     "output_type": "stream",
     "text": [
      "0\n"
     ]
    }
   ],
   "source": [
    "train_data=train_data.drop(train_data[train_data['pickup_datetime'].isnull()].index,axis=0)\n",
    "print(train_data['pickup_datetime'].isnull().sum())"
   ]
  },
  {
   "cell_type": "code",
   "execution_count": 19,
   "id": "35cb5f28",
   "metadata": {},
   "outputs": [
    {
     "data": {
      "text/plain": [
       "count    16011.000000\n",
       "mean         2.625171\n",
       "std         60.846021\n",
       "min          0.000000\n",
       "25%          1.000000\n",
       "50%          1.000000\n",
       "75%          2.000000\n",
       "max       5345.000000\n",
       "Name: passenger_count, dtype: float64"
      ]
     },
     "execution_count": 19,
     "metadata": {},
     "output_type": "execute_result"
    }
   ],
   "source": [
    "#Now let's look at the count_passengers\n",
    "train_data['passenger_count'].describe()"
   ]
  },
  {
   "cell_type": "code",
   "execution_count": 20,
   "id": "17aaced8",
   "metadata": {},
   "outputs": [],
   "source": [
    "#5345 is an unrealistic maximum value. Practically, 8 people can be the maximum number of people and minimum 1.\n",
    "train_data=train_data.drop(train_data[train_data['passenger_count']>8].index,axis=0)"
   ]
  },
  {
   "cell_type": "code",
   "execution_count": 21,
   "id": "0e87c3e2",
   "metadata": {},
   "outputs": [],
   "source": [
    "train_data=train_data.drop(train_data[train_data['passenger_count']==0].index,axis=0)"
   ]
  },
  {
   "cell_type": "code",
   "execution_count": 22,
   "id": "79431648",
   "metadata": {},
   "outputs": [
    {
     "data": {
      "text/plain": [
       "(15989, 13)"
      ]
     },
     "execution_count": 22,
     "metadata": {},
     "output_type": "execute_result"
    }
   ],
   "source": [
    "train_data.shape"
   ]
  },
  {
   "cell_type": "code",
   "execution_count": 23,
   "id": "dd012693",
   "metadata": {},
   "outputs": [
    {
     "data": {
      "text/plain": [
       "count    15934.000000\n",
       "mean         1.649581\n",
       "std          1.265943\n",
       "min          0.120000\n",
       "25%          1.000000\n",
       "50%          1.000000\n",
       "75%          2.000000\n",
       "max          6.000000\n",
       "Name: passenger_count, dtype: float64"
      ]
     },
     "execution_count": 23,
     "metadata": {},
     "output_type": "execute_result"
    }
   ],
   "source": [
    "train_data['passenger_count'].describe()"
   ]
  },
  {
   "cell_type": "code",
   "execution_count": 24,
   "id": "c85985f7",
   "metadata": {},
   "outputs": [],
   "source": [
    "#Removing null values from passenger_count\n",
    "train_data=train_data.drop(train_data[train_data['passenger_count'].isnull()].index,axis=0)"
   ]
  },
  {
   "cell_type": "code",
   "execution_count": 25,
   "id": "23f9a495",
   "metadata": {},
   "outputs": [
    {
     "data": {
      "text/plain": [
       "(15934, 13)"
      ]
     },
     "execution_count": 25,
     "metadata": {},
     "output_type": "execute_result"
    }
   ],
   "source": [
    "train_data.shape"
   ]
  },
  {
   "cell_type": "code",
   "execution_count": 26,
   "id": "61f30f12",
   "metadata": {},
   "outputs": [],
   "source": [
    "#Decimal values in passenger_count make no sense.\n",
    "train_data=train_data.drop(train_data[train_data['passenger_count']==0.12].index,axis=0)"
   ]
  },
  {
   "cell_type": "code",
   "execution_count": 27,
   "id": "c7a3b082",
   "metadata": {},
   "outputs": [
    {
     "data": {
      "text/plain": [
       "(15933, 13)"
      ]
     },
     "execution_count": 27,
     "metadata": {},
     "output_type": "execute_result"
    }
   ],
   "source": [
    "train_data.shape"
   ]
  },
  {
   "cell_type": "code",
   "execution_count": 28,
   "id": "7db57861",
   "metadata": {},
   "outputs": [
    {
     "data": {
      "text/html": [
       "<div>\n",
       "<style scoped>\n",
       "    .dataframe tbody tr th:only-of-type {\n",
       "        vertical-align: middle;\n",
       "    }\n",
       "\n",
       "    .dataframe tbody tr th {\n",
       "        vertical-align: top;\n",
       "    }\n",
       "\n",
       "    .dataframe thead th {\n",
       "        text-align: right;\n",
       "    }\n",
       "</style>\n",
       "<table border=\"1\" class=\"dataframe\">\n",
       "  <thead>\n",
       "    <tr style=\"text-align: right;\">\n",
       "      <th></th>\n",
       "      <th>fare_amount</th>\n",
       "      <th>pickup_longitude</th>\n",
       "      <th>pickup_latitude</th>\n",
       "      <th>dropoff_longitude</th>\n",
       "      <th>dropoff_latitude</th>\n",
       "      <th>passenger_count</th>\n",
       "      <th>year</th>\n",
       "      <th>month</th>\n",
       "      <th>date</th>\n",
       "      <th>day</th>\n",
       "      <th>hour</th>\n",
       "      <th>minute</th>\n",
       "    </tr>\n",
       "  </thead>\n",
       "  <tbody>\n",
       "    <tr>\n",
       "      <th>count</th>\n",
       "      <td>15909.000000</td>\n",
       "      <td>15933.000000</td>\n",
       "      <td>15933.000000</td>\n",
       "      <td>15933.000000</td>\n",
       "      <td>15933.000000</td>\n",
       "      <td>15933.000000</td>\n",
       "      <td>15933.000000</td>\n",
       "      <td>15933.000000</td>\n",
       "      <td>15933.000000</td>\n",
       "      <td>15933.000000</td>\n",
       "      <td>15933.000000</td>\n",
       "      <td>15933.000000</td>\n",
       "    </tr>\n",
       "    <tr>\n",
       "      <th>mean</th>\n",
       "      <td>15.059678</td>\n",
       "      <td>-72.468618</td>\n",
       "      <td>39.917940</td>\n",
       "      <td>-72.458875</td>\n",
       "      <td>39.895852</td>\n",
       "      <td>1.649677</td>\n",
       "      <td>2011.731940</td>\n",
       "      <td>6.262725</td>\n",
       "      <td>15.670997</td>\n",
       "      <td>3.033578</td>\n",
       "      <td>13.492751</td>\n",
       "      <td>29.642754</td>\n",
       "    </tr>\n",
       "    <tr>\n",
       "      <th>std</th>\n",
       "      <td>432.255920</td>\n",
       "      <td>10.559655</td>\n",
       "      <td>6.825582</td>\n",
       "      <td>10.587462</td>\n",
       "      <td>6.196463</td>\n",
       "      <td>1.265925</td>\n",
       "      <td>1.867439</td>\n",
       "      <td>3.446775</td>\n",
       "      <td>8.685480</td>\n",
       "      <td>1.968829</td>\n",
       "      <td>6.523016</td>\n",
       "      <td>17.299699</td>\n",
       "    </tr>\n",
       "    <tr>\n",
       "      <th>min</th>\n",
       "      <td>-3.000000</td>\n",
       "      <td>-74.438233</td>\n",
       "      <td>-74.006893</td>\n",
       "      <td>-74.429332</td>\n",
       "      <td>-74.006377</td>\n",
       "      <td>1.000000</td>\n",
       "      <td>2009.000000</td>\n",
       "      <td>1.000000</td>\n",
       "      <td>1.000000</td>\n",
       "      <td>0.000000</td>\n",
       "      <td>0.000000</td>\n",
       "      <td>0.000000</td>\n",
       "    </tr>\n",
       "    <tr>\n",
       "      <th>25%</th>\n",
       "      <td>6.000000</td>\n",
       "      <td>-73.992148</td>\n",
       "      <td>40.734938</td>\n",
       "      <td>-73.991182</td>\n",
       "      <td>40.734659</td>\n",
       "      <td>1.000000</td>\n",
       "      <td>2010.000000</td>\n",
       "      <td>3.000000</td>\n",
       "      <td>8.000000</td>\n",
       "      <td>1.000000</td>\n",
       "      <td>9.000000</td>\n",
       "      <td>15.000000</td>\n",
       "    </tr>\n",
       "    <tr>\n",
       "      <th>50%</th>\n",
       "      <td>8.500000</td>\n",
       "      <td>-73.981675</td>\n",
       "      <td>40.752633</td>\n",
       "      <td>-73.980155</td>\n",
       "      <td>40.753564</td>\n",
       "      <td>1.000000</td>\n",
       "      <td>2012.000000</td>\n",
       "      <td>6.000000</td>\n",
       "      <td>16.000000</td>\n",
       "      <td>3.000000</td>\n",
       "      <td>14.000000</td>\n",
       "      <td>30.000000</td>\n",
       "    </tr>\n",
       "    <tr>\n",
       "      <th>75%</th>\n",
       "      <td>12.500000</td>\n",
       "      <td>-73.966800</td>\n",
       "      <td>40.767392</td>\n",
       "      <td>-73.963598</td>\n",
       "      <td>40.768026</td>\n",
       "      <td>2.000000</td>\n",
       "      <td>2013.000000</td>\n",
       "      <td>9.000000</td>\n",
       "      <td>23.000000</td>\n",
       "      <td>5.000000</td>\n",
       "      <td>19.000000</td>\n",
       "      <td>45.000000</td>\n",
       "    </tr>\n",
       "    <tr>\n",
       "      <th>max</th>\n",
       "      <td>54343.000000</td>\n",
       "      <td>40.766125</td>\n",
       "      <td>401.083332</td>\n",
       "      <td>40.802437</td>\n",
       "      <td>41.366138</td>\n",
       "      <td>6.000000</td>\n",
       "      <td>2015.000000</td>\n",
       "      <td>12.000000</td>\n",
       "      <td>31.000000</td>\n",
       "      <td>6.000000</td>\n",
       "      <td>23.000000</td>\n",
       "      <td>59.000000</td>\n",
       "    </tr>\n",
       "  </tbody>\n",
       "</table>\n",
       "</div>"
      ],
      "text/plain": [
       "        fare_amount  pickup_longitude  pickup_latitude  dropoff_longitude  \\\n",
       "count  15909.000000      15933.000000     15933.000000       15933.000000   \n",
       "mean      15.059678        -72.468618        39.917940         -72.458875   \n",
       "std      432.255920         10.559655         6.825582          10.587462   \n",
       "min       -3.000000        -74.438233       -74.006893         -74.429332   \n",
       "25%        6.000000        -73.992148        40.734938         -73.991182   \n",
       "50%        8.500000        -73.981675        40.752633         -73.980155   \n",
       "75%       12.500000        -73.966800        40.767392         -73.963598   \n",
       "max    54343.000000         40.766125       401.083332          40.802437   \n",
       "\n",
       "       dropoff_latitude  passenger_count          year         month  \\\n",
       "count      15933.000000     15933.000000  15933.000000  15933.000000   \n",
       "mean          39.895852         1.649677   2011.731940      6.262725   \n",
       "std            6.196463         1.265925      1.867439      3.446775   \n",
       "min          -74.006377         1.000000   2009.000000      1.000000   \n",
       "25%           40.734659         1.000000   2010.000000      3.000000   \n",
       "50%           40.753564         1.000000   2012.000000      6.000000   \n",
       "75%           40.768026         2.000000   2013.000000      9.000000   \n",
       "max           41.366138         6.000000   2015.000000     12.000000   \n",
       "\n",
       "               date           day          hour        minute  \n",
       "count  15933.000000  15933.000000  15933.000000  15933.000000  \n",
       "mean      15.670997      3.033578     13.492751     29.642754  \n",
       "std        8.685480      1.968829      6.523016     17.299699  \n",
       "min        1.000000      0.000000      0.000000      0.000000  \n",
       "25%        8.000000      1.000000      9.000000     15.000000  \n",
       "50%       16.000000      3.000000     14.000000     30.000000  \n",
       "75%       23.000000      5.000000     19.000000     45.000000  \n",
       "max       31.000000      6.000000     23.000000     59.000000  "
      ]
     },
     "execution_count": 28,
     "metadata": {},
     "output_type": "execute_result"
    }
   ],
   "source": [
    "train_data.describe()"
   ]
  },
  {
   "cell_type": "code",
   "execution_count": 29,
   "id": "cccd9bfa",
   "metadata": {},
   "outputs": [
    {
     "data": {
      "text/plain": [
       "1015    54343.0\n",
       "1072     4343.0\n",
       "607       453.0\n",
       "980       434.0\n",
       "1335      180.0\n",
       "         ...   \n",
       "1712        NaN\n",
       "2412        NaN\n",
       "2458        NaN\n",
       "8178        NaN\n",
       "8226        NaN\n",
       "Name: fare_amount, Length: 15933, dtype: float64"
      ]
     },
     "execution_count": 29,
     "metadata": {},
     "output_type": "execute_result"
    }
   ],
   "source": [
    "#Let's look at the fare_amount variable. Minimum is -3 which should'nt be. Hence we will have to look for other outliers.\n",
    "train_data['fare_amount'].sort_values(ascending=False)"
   ]
  },
  {
   "cell_type": "code",
   "execution_count": 30,
   "id": "b47664ea",
   "metadata": {},
   "outputs": [
    {
     "data": {
      "text/plain": [
       "(15933, 13)"
      ]
     },
     "execution_count": 30,
     "metadata": {},
     "output_type": "execute_result"
    }
   ],
   "source": [
    "#A lot of null values. Top 2 values are outliers.\n",
    "train_data.shape"
   ]
  },
  {
   "cell_type": "code",
   "execution_count": 31,
   "id": "0ab713c8",
   "metadata": {},
   "outputs": [],
   "source": [
    "train_data=train_data.drop(train_data[train_data['fare_amount']<0].index,axis=0)"
   ]
  },
  {
   "cell_type": "code",
   "execution_count": 32,
   "id": "6c918e1c",
   "metadata": {},
   "outputs": [],
   "source": [
    "train_data=train_data.drop(train_data[train_data['fare_amount']>454].index,axis=0)"
   ]
  },
  {
   "cell_type": "code",
   "execution_count": 33,
   "id": "fa2db0e9",
   "metadata": {},
   "outputs": [],
   "source": [
    "train_data=train_data.drop(train_data[train_data['fare_amount'].isnull()].index,axis=0)"
   ]
  },
  {
   "cell_type": "code",
   "execution_count": 34,
   "id": "de87e5f3",
   "metadata": {},
   "outputs": [],
   "source": [
    "# fare_amount of decimal between 0 and 1 is also not practical.\n",
    "train_data=train_data.drop(train_data[train_data['fare_amount']<1].index,axis=0)"
   ]
  },
  {
   "cell_type": "code",
   "execution_count": 35,
   "id": "a8fb2953",
   "metadata": {},
   "outputs": [
    {
     "data": {
      "text/plain": [
       "(15902, 13)"
      ]
     },
     "execution_count": 35,
     "metadata": {},
     "output_type": "execute_result"
    }
   ],
   "source": [
    "train_data.shape"
   ]
  },
  {
   "cell_type": "code",
   "execution_count": 36,
   "id": "ffd5831b",
   "metadata": {},
   "outputs": [
    {
     "data": {
      "text/plain": [
       "count    15902.000000\n",
       "mean        11.376356\n",
       "std         10.814908\n",
       "min          1.140000\n",
       "25%          6.000000\n",
       "50%          8.500000\n",
       "75%         12.500000\n",
       "max        453.000000\n",
       "Name: fare_amount, dtype: float64"
      ]
     },
     "execution_count": 36,
     "metadata": {},
     "output_type": "execute_result"
    }
   ],
   "source": [
    "train_data['fare_amount'].describe()"
   ]
  },
  {
   "cell_type": "code",
   "execution_count": 37,
   "id": "a824d16c",
   "metadata": {},
   "outputs": [
    {
     "data": {
      "text/plain": [
       "fare_amount          0\n",
       "pickup_datetime      0\n",
       "pickup_longitude     0\n",
       "pickup_latitude      0\n",
       "dropoff_longitude    0\n",
       "dropoff_latitude     0\n",
       "passenger_count      0\n",
       "year                 0\n",
       "month                0\n",
       "date                 0\n",
       "day                  0\n",
       "hour                 0\n",
       "minute               0\n",
       "dtype: int64"
      ]
     },
     "execution_count": 37,
     "metadata": {},
     "output_type": "execute_result"
    }
   ],
   "source": [
    "train_data.isnull().sum()"
   ]
  },
  {
   "cell_type": "code",
   "execution_count": 38,
   "id": "a18c7cc8",
   "metadata": {},
   "outputs": [
    {
     "data": {
      "text/html": [
       "<div>\n",
       "<style scoped>\n",
       "    .dataframe tbody tr th:only-of-type {\n",
       "        vertical-align: middle;\n",
       "    }\n",
       "\n",
       "    .dataframe tbody tr th {\n",
       "        vertical-align: top;\n",
       "    }\n",
       "\n",
       "    .dataframe thead th {\n",
       "        text-align: right;\n",
       "    }\n",
       "</style>\n",
       "<table border=\"1\" class=\"dataframe\">\n",
       "  <thead>\n",
       "    <tr style=\"text-align: right;\">\n",
       "      <th></th>\n",
       "      <th>fare_amount</th>\n",
       "      <th>pickup_longitude</th>\n",
       "      <th>pickup_latitude</th>\n",
       "      <th>dropoff_longitude</th>\n",
       "      <th>dropoff_latitude</th>\n",
       "      <th>passenger_count</th>\n",
       "      <th>year</th>\n",
       "      <th>month</th>\n",
       "      <th>date</th>\n",
       "      <th>day</th>\n",
       "      <th>hour</th>\n",
       "      <th>minute</th>\n",
       "    </tr>\n",
       "  </thead>\n",
       "  <tbody>\n",
       "    <tr>\n",
       "      <th>count</th>\n",
       "      <td>15902.000000</td>\n",
       "      <td>15902.000000</td>\n",
       "      <td>15902.000000</td>\n",
       "      <td>15902.000000</td>\n",
       "      <td>15902.000000</td>\n",
       "      <td>15902.000000</td>\n",
       "      <td>15902.000000</td>\n",
       "      <td>15902.000000</td>\n",
       "      <td>15902.000000</td>\n",
       "      <td>15902.000000</td>\n",
       "      <td>15902.000000</td>\n",
       "      <td>15902.000000</td>\n",
       "    </tr>\n",
       "    <tr>\n",
       "      <th>mean</th>\n",
       "      <td>11.376356</td>\n",
       "      <td>-72.474987</td>\n",
       "      <td>39.921445</td>\n",
       "      <td>-72.465244</td>\n",
       "      <td>39.899320</td>\n",
       "      <td>1.649686</td>\n",
       "      <td>2011.730663</td>\n",
       "      <td>6.264998</td>\n",
       "      <td>15.670733</td>\n",
       "      <td>3.034398</td>\n",
       "      <td>13.494152</td>\n",
       "      <td>29.654886</td>\n",
       "    </tr>\n",
       "    <tr>\n",
       "      <th>std</th>\n",
       "      <td>10.814908</td>\n",
       "      <td>10.538452</td>\n",
       "      <td>6.817455</td>\n",
       "      <td>10.566377</td>\n",
       "      <td>6.186233</td>\n",
       "      <td>1.265840</td>\n",
       "      <td>1.866688</td>\n",
       "      <td>3.447152</td>\n",
       "      <td>8.685390</td>\n",
       "      <td>1.968691</td>\n",
       "      <td>6.521683</td>\n",
       "      <td>17.299956</td>\n",
       "    </tr>\n",
       "    <tr>\n",
       "      <th>min</th>\n",
       "      <td>1.140000</td>\n",
       "      <td>-74.438233</td>\n",
       "      <td>-74.006893</td>\n",
       "      <td>-74.429332</td>\n",
       "      <td>-74.006377</td>\n",
       "      <td>1.000000</td>\n",
       "      <td>2009.000000</td>\n",
       "      <td>1.000000</td>\n",
       "      <td>1.000000</td>\n",
       "      <td>0.000000</td>\n",
       "      <td>0.000000</td>\n",
       "      <td>0.000000</td>\n",
       "    </tr>\n",
       "    <tr>\n",
       "      <th>25%</th>\n",
       "      <td>6.000000</td>\n",
       "      <td>-73.992144</td>\n",
       "      <td>40.734949</td>\n",
       "      <td>-73.991181</td>\n",
       "      <td>40.734724</td>\n",
       "      <td>1.000000</td>\n",
       "      <td>2010.000000</td>\n",
       "      <td>3.000000</td>\n",
       "      <td>8.000000</td>\n",
       "      <td>1.000000</td>\n",
       "      <td>9.000000</td>\n",
       "      <td>15.000000</td>\n",
       "    </tr>\n",
       "    <tr>\n",
       "      <th>50%</th>\n",
       "      <td>8.500000</td>\n",
       "      <td>-73.981691</td>\n",
       "      <td>40.752640</td>\n",
       "      <td>-73.980158</td>\n",
       "      <td>40.753566</td>\n",
       "      <td>1.000000</td>\n",
       "      <td>2012.000000</td>\n",
       "      <td>6.000000</td>\n",
       "      <td>16.000000</td>\n",
       "      <td>3.000000</td>\n",
       "      <td>14.000000</td>\n",
       "      <td>30.000000</td>\n",
       "    </tr>\n",
       "    <tr>\n",
       "      <th>75%</th>\n",
       "      <td>12.500000</td>\n",
       "      <td>-73.966805</td>\n",
       "      <td>40.767382</td>\n",
       "      <td>-73.963643</td>\n",
       "      <td>40.768028</td>\n",
       "      <td>2.000000</td>\n",
       "      <td>2013.000000</td>\n",
       "      <td>9.000000</td>\n",
       "      <td>23.000000</td>\n",
       "      <td>5.000000</td>\n",
       "      <td>19.000000</td>\n",
       "      <td>45.000000</td>\n",
       "    </tr>\n",
       "    <tr>\n",
       "      <th>max</th>\n",
       "      <td>453.000000</td>\n",
       "      <td>40.766125</td>\n",
       "      <td>401.083332</td>\n",
       "      <td>40.802437</td>\n",
       "      <td>41.366138</td>\n",
       "      <td>6.000000</td>\n",
       "      <td>2015.000000</td>\n",
       "      <td>12.000000</td>\n",
       "      <td>31.000000</td>\n",
       "      <td>6.000000</td>\n",
       "      <td>23.000000</td>\n",
       "      <td>59.000000</td>\n",
       "    </tr>\n",
       "  </tbody>\n",
       "</table>\n",
       "</div>"
      ],
      "text/plain": [
       "        fare_amount  pickup_longitude  pickup_latitude  dropoff_longitude  \\\n",
       "count  15902.000000      15902.000000     15902.000000       15902.000000   \n",
       "mean      11.376356        -72.474987        39.921445         -72.465244   \n",
       "std       10.814908         10.538452         6.817455          10.566377   \n",
       "min        1.140000        -74.438233       -74.006893         -74.429332   \n",
       "25%        6.000000        -73.992144        40.734949         -73.991181   \n",
       "50%        8.500000        -73.981691        40.752640         -73.980158   \n",
       "75%       12.500000        -73.966805        40.767382         -73.963643   \n",
       "max      453.000000         40.766125       401.083332          40.802437   \n",
       "\n",
       "       dropoff_latitude  passenger_count          year         month  \\\n",
       "count      15902.000000     15902.000000  15902.000000  15902.000000   \n",
       "mean          39.899320         1.649686   2011.730663      6.264998   \n",
       "std            6.186233         1.265840      1.866688      3.447152   \n",
       "min          -74.006377         1.000000   2009.000000      1.000000   \n",
       "25%           40.734724         1.000000   2010.000000      3.000000   \n",
       "50%           40.753566         1.000000   2012.000000      6.000000   \n",
       "75%           40.768028         2.000000   2013.000000      9.000000   \n",
       "max           41.366138         6.000000   2015.000000     12.000000   \n",
       "\n",
       "               date           day          hour        minute  \n",
       "count  15902.000000  15902.000000  15902.000000  15902.000000  \n",
       "mean      15.670733      3.034398     13.494152     29.654886  \n",
       "std        8.685390      1.968691      6.521683     17.299956  \n",
       "min        1.000000      0.000000      0.000000      0.000000  \n",
       "25%        8.000000      1.000000      9.000000     15.000000  \n",
       "50%       16.000000      3.000000     14.000000     30.000000  \n",
       "75%       23.000000      5.000000     19.000000     45.000000  \n",
       "max       31.000000      6.000000     23.000000     59.000000  "
      ]
     },
     "execution_count": 38,
     "metadata": {},
     "output_type": "execute_result"
    }
   ],
   "source": [
    "train_data.describe()"
   ]
  },
  {
   "cell_type": "code",
   "execution_count": 39,
   "id": "34296d34",
   "metadata": {},
   "outputs": [
    {
     "data": {
      "text/plain": [
       "count    15902.000000\n",
       "mean        39.921445\n",
       "std          6.817455\n",
       "min        -74.006893\n",
       "25%         40.734949\n",
       "50%         40.752640\n",
       "75%         40.767382\n",
       "max        401.083332\n",
       "Name: pickup_latitude, dtype: float64"
      ]
     },
     "execution_count": 39,
     "metadata": {},
     "output_type": "execute_result"
    }
   ],
   "source": [
    "# We know that latitudes' range is -90 to 90 and longitudes' range is -180 to 180\n",
    "# Hence there is an outlier in pickup_latitude\n",
    "train_data['pickup_latitude'].describe()"
   ]
  },
  {
   "cell_type": "code",
   "execution_count": 40,
   "id": "5f6e77b1",
   "metadata": {},
   "outputs": [],
   "source": [
    "train_data=train_data.drop(train_data[train_data['pickup_latitude']>90].index,axis=0)"
   ]
  },
  {
   "cell_type": "code",
   "execution_count": 41,
   "id": "02f54c53",
   "metadata": {},
   "outputs": [
    {
     "data": {
      "text/plain": [
       "count    15901.000000\n",
       "mean        39.898732\n",
       "std          6.186797\n",
       "min        -74.006893\n",
       "25%         40.734948\n",
       "50%         40.752640\n",
       "75%         40.767382\n",
       "max         41.366138\n",
       "Name: pickup_latitude, dtype: float64"
      ]
     },
     "execution_count": 41,
     "metadata": {},
     "output_type": "execute_result"
    }
   ],
   "source": [
    "train_data['pickup_latitude'].describe()"
   ]
  },
  {
   "cell_type": "code",
   "execution_count": 42,
   "id": "07e4d2b7",
   "metadata": {},
   "outputs": [
    {
     "data": {
      "text/plain": [
       "(15901, 13)"
      ]
     },
     "execution_count": 42,
     "metadata": {},
     "output_type": "execute_result"
    }
   ],
   "source": [
    "train_data.shape"
   ]
  },
  {
   "cell_type": "code",
   "execution_count": 43,
   "id": "7792cdc9",
   "metadata": {},
   "outputs": [],
   "source": [
    "train_data=train_data.drop(train_data[train_data['pickup_latitude']<-90].index,axis=0)\n",
    "train_data=train_data.drop(train_data[train_data['dropoff_latitude']<-90].index,axis=0)\n",
    "train_data=train_data.drop(train_data[train_data['dropoff_latitude']>90].index,axis=0)\n",
    "train_data=train_data.drop(train_data[train_data['dropoff_longitude']<-180].index,axis=0)\n",
    "train_data=train_data.drop(train_data[train_data['dropoff_longitude']>180].index,axis=0)\n",
    "train_data=train_data.drop(train_data[train_data['pickup_longitude']<-180].index,axis=0)\n",
    "train_data=train_data.drop(train_data[train_data['pickup_longitude']>180].index,axis=0)"
   ]
  },
  {
   "cell_type": "code",
   "execution_count": 44,
   "id": "42a76ca3",
   "metadata": {},
   "outputs": [
    {
     "data": {
      "text/plain": [
       "(15901, 13)"
      ]
     },
     "execution_count": 44,
     "metadata": {},
     "output_type": "execute_result"
    }
   ],
   "source": [
    "train_data.shape"
   ]
  },
  {
   "cell_type": "code",
   "execution_count": 45,
   "id": "56f15724",
   "metadata": {},
   "outputs": [
    {
     "data": {
      "text/plain": [
       "pickup_datetime      0\n",
       "pickup_longitude     0\n",
       "pickup_latitude      0\n",
       "dropoff_longitude    0\n",
       "dropoff_latitude     0\n",
       "passenger_count      0\n",
       "year                 0\n",
       "month                0\n",
       "date                 0\n",
       "day                  0\n",
       "hour                 0\n",
       "minute               0\n",
       "dtype: int64"
      ]
     },
     "execution_count": 45,
     "metadata": {},
     "output_type": "execute_result"
    }
   ],
   "source": [
    "test_data.isnull().sum()"
   ]
  },
  {
   "cell_type": "code",
   "execution_count": 46,
   "id": "0e4885de",
   "metadata": {},
   "outputs": [],
   "source": [
    "# We have to find the distance covered by cab. Since we are given the co-ordinates, we have to use them and find their distance.\n",
    "import math\n",
    "from math import radians,sin,cos,asin,sqrt\n",
    "def haversine(a):\n",
    "    lon1=a[0]\n",
    "    lat1=a[1]\n",
    "    lon2=a[2]\n",
    "    lat2=a[3]\n",
    "    \n",
    "    #Convert from degrees to radians\n",
    "    lon1,lat1,lon2,lat2=map(radians,[lon1,lat1,lon2,lat2])\n",
    "    \n",
    "    plon=lon2-lon1\n",
    "    plat=lat2-lat1\n",
    "    \n",
    "    a = math.sin(plat / 2)**2 + math.cos(lat1) * math.cos(lat2) * math.sin(plon / 2)**2\n",
    "    c =  2 * asin(sqrt(a))\n",
    "    km = 6371* c\n",
    "    return km    "
   ]
  },
  {
   "cell_type": "code",
   "execution_count": 47,
   "id": "7533ecdd",
   "metadata": {},
   "outputs": [],
   "source": [
    "train_data['distance'] = train_data[['pickup_longitude','pickup_latitude','dropoff_longitude','dropoff_latitude']].apply(haversine,axis=1)"
   ]
  },
  {
   "cell_type": "code",
   "execution_count": 48,
   "id": "84507457",
   "metadata": {},
   "outputs": [],
   "source": [
    "test_data['distance'] = test_data[['pickup_longitude','pickup_latitude','dropoff_longitude','dropoff_latitude']].apply(haversine,axis=1)"
   ]
  },
  {
   "cell_type": "code",
   "execution_count": 49,
   "id": "457e2242",
   "metadata": {},
   "outputs": [
    {
     "data": {
      "text/html": [
       "<div>\n",
       "<style scoped>\n",
       "    .dataframe tbody tr th:only-of-type {\n",
       "        vertical-align: middle;\n",
       "    }\n",
       "\n",
       "    .dataframe tbody tr th {\n",
       "        vertical-align: top;\n",
       "    }\n",
       "\n",
       "    .dataframe thead th {\n",
       "        text-align: right;\n",
       "    }\n",
       "</style>\n",
       "<table border=\"1\" class=\"dataframe\">\n",
       "  <thead>\n",
       "    <tr style=\"text-align: right;\">\n",
       "      <th></th>\n",
       "      <th>fare_amount</th>\n",
       "      <th>pickup_longitude</th>\n",
       "      <th>pickup_latitude</th>\n",
       "      <th>dropoff_longitude</th>\n",
       "      <th>dropoff_latitude</th>\n",
       "      <th>passenger_count</th>\n",
       "      <th>year</th>\n",
       "      <th>month</th>\n",
       "      <th>date</th>\n",
       "      <th>day</th>\n",
       "      <th>hour</th>\n",
       "      <th>minute</th>\n",
       "      <th>distance</th>\n",
       "    </tr>\n",
       "  </thead>\n",
       "  <tbody>\n",
       "    <tr>\n",
       "      <th>count</th>\n",
       "      <td>15901.000000</td>\n",
       "      <td>15901.000000</td>\n",
       "      <td>15901.000000</td>\n",
       "      <td>15901.000000</td>\n",
       "      <td>15901.000000</td>\n",
       "      <td>15901.000000</td>\n",
       "      <td>15901.000000</td>\n",
       "      <td>15901.000000</td>\n",
       "      <td>15901.000000</td>\n",
       "      <td>15901.000000</td>\n",
       "      <td>15901.000000</td>\n",
       "      <td>15901.000000</td>\n",
       "      <td>15901.000000</td>\n",
       "    </tr>\n",
       "    <tr>\n",
       "      <th>mean</th>\n",
       "      <td>11.376864</td>\n",
       "      <td>-72.474894</td>\n",
       "      <td>39.898732</td>\n",
       "      <td>-72.465150</td>\n",
       "      <td>39.899265</td>\n",
       "      <td>1.649726</td>\n",
       "      <td>2011.730709</td>\n",
       "      <td>6.264952</td>\n",
       "      <td>15.669832</td>\n",
       "      <td>3.034275</td>\n",
       "      <td>13.494309</td>\n",
       "      <td>29.655808</td>\n",
       "      <td>15.071717</td>\n",
       "    </tr>\n",
       "    <tr>\n",
       "      <th>std</th>\n",
       "      <td>10.815059</td>\n",
       "      <td>10.538777</td>\n",
       "      <td>6.186797</td>\n",
       "      <td>10.566703</td>\n",
       "      <td>6.186423</td>\n",
       "      <td>1.265870</td>\n",
       "      <td>1.866738</td>\n",
       "      <td>3.447255</td>\n",
       "      <td>8.684920</td>\n",
       "      <td>1.968691</td>\n",
       "      <td>6.521858</td>\n",
       "      <td>17.300109</td>\n",
       "      <td>311.742181</td>\n",
       "    </tr>\n",
       "    <tr>\n",
       "      <th>min</th>\n",
       "      <td>1.140000</td>\n",
       "      <td>-74.438233</td>\n",
       "      <td>-74.006893</td>\n",
       "      <td>-74.429332</td>\n",
       "      <td>-74.006377</td>\n",
       "      <td>1.000000</td>\n",
       "      <td>2009.000000</td>\n",
       "      <td>1.000000</td>\n",
       "      <td>1.000000</td>\n",
       "      <td>0.000000</td>\n",
       "      <td>0.000000</td>\n",
       "      <td>0.000000</td>\n",
       "      <td>0.000000</td>\n",
       "    </tr>\n",
       "    <tr>\n",
       "      <th>25%</th>\n",
       "      <td>6.000000</td>\n",
       "      <td>-73.992145</td>\n",
       "      <td>40.734948</td>\n",
       "      <td>-73.991181</td>\n",
       "      <td>40.734716</td>\n",
       "      <td>1.000000</td>\n",
       "      <td>2010.000000</td>\n",
       "      <td>3.000000</td>\n",
       "      <td>8.000000</td>\n",
       "      <td>1.000000</td>\n",
       "      <td>9.000000</td>\n",
       "      <td>15.000000</td>\n",
       "      <td>1.215839</td>\n",
       "    </tr>\n",
       "    <tr>\n",
       "      <th>50%</th>\n",
       "      <td>8.500000</td>\n",
       "      <td>-73.981693</td>\n",
       "      <td>40.752640</td>\n",
       "      <td>-73.980158</td>\n",
       "      <td>40.753565</td>\n",
       "      <td>1.000000</td>\n",
       "      <td>2012.000000</td>\n",
       "      <td>6.000000</td>\n",
       "      <td>16.000000</td>\n",
       "      <td>3.000000</td>\n",
       "      <td>14.000000</td>\n",
       "      <td>30.000000</td>\n",
       "      <td>2.125955</td>\n",
       "    </tr>\n",
       "    <tr>\n",
       "      <th>75%</th>\n",
       "      <td>12.500000</td>\n",
       "      <td>-73.966815</td>\n",
       "      <td>40.767382</td>\n",
       "      <td>-73.963643</td>\n",
       "      <td>40.768026</td>\n",
       "      <td>2.000000</td>\n",
       "      <td>2013.000000</td>\n",
       "      <td>9.000000</td>\n",
       "      <td>23.000000</td>\n",
       "      <td>5.000000</td>\n",
       "      <td>19.000000</td>\n",
       "      <td>45.000000</td>\n",
       "      <td>3.851353</td>\n",
       "    </tr>\n",
       "    <tr>\n",
       "      <th>max</th>\n",
       "      <td>453.000000</td>\n",
       "      <td>40.766125</td>\n",
       "      <td>41.366138</td>\n",
       "      <td>40.802437</td>\n",
       "      <td>41.366138</td>\n",
       "      <td>6.000000</td>\n",
       "      <td>2015.000000</td>\n",
       "      <td>12.000000</td>\n",
       "      <td>31.000000</td>\n",
       "      <td>6.000000</td>\n",
       "      <td>23.000000</td>\n",
       "      <td>59.000000</td>\n",
       "      <td>8667.542104</td>\n",
       "    </tr>\n",
       "  </tbody>\n",
       "</table>\n",
       "</div>"
      ],
      "text/plain": [
       "        fare_amount  pickup_longitude  pickup_latitude  dropoff_longitude  \\\n",
       "count  15901.000000      15901.000000     15901.000000       15901.000000   \n",
       "mean      11.376864        -72.474894        39.898732         -72.465150   \n",
       "std       10.815059         10.538777         6.186797          10.566703   \n",
       "min        1.140000        -74.438233       -74.006893         -74.429332   \n",
       "25%        6.000000        -73.992145        40.734948         -73.991181   \n",
       "50%        8.500000        -73.981693        40.752640         -73.980158   \n",
       "75%       12.500000        -73.966815        40.767382         -73.963643   \n",
       "max      453.000000         40.766125        41.366138          40.802437   \n",
       "\n",
       "       dropoff_latitude  passenger_count          year         month  \\\n",
       "count      15901.000000     15901.000000  15901.000000  15901.000000   \n",
       "mean          39.899265         1.649726   2011.730709      6.264952   \n",
       "std            6.186423         1.265870      1.866738      3.447255   \n",
       "min          -74.006377         1.000000   2009.000000      1.000000   \n",
       "25%           40.734716         1.000000   2010.000000      3.000000   \n",
       "50%           40.753565         1.000000   2012.000000      6.000000   \n",
       "75%           40.768026         2.000000   2013.000000      9.000000   \n",
       "max           41.366138         6.000000   2015.000000     12.000000   \n",
       "\n",
       "               date           day          hour        minute      distance  \n",
       "count  15901.000000  15901.000000  15901.000000  15901.000000  15901.000000  \n",
       "mean      15.669832      3.034275     13.494309     29.655808     15.071717  \n",
       "std        8.684920      1.968691      6.521858     17.300109    311.742181  \n",
       "min        1.000000      0.000000      0.000000      0.000000      0.000000  \n",
       "25%        8.000000      1.000000      9.000000     15.000000      1.215839  \n",
       "50%       16.000000      3.000000     14.000000     30.000000      2.125955  \n",
       "75%       23.000000      5.000000     19.000000     45.000000      3.851353  \n",
       "max       31.000000      6.000000     23.000000     59.000000   8667.542104  "
      ]
     },
     "execution_count": 49,
     "metadata": {},
     "output_type": "execute_result"
    }
   ],
   "source": [
    "train_data.describe()"
   ]
  },
  {
   "cell_type": "code",
   "execution_count": 53,
   "id": "90a3f439",
   "metadata": {},
   "outputs": [
    {
     "data": {
      "text/plain": [
       "9147     8667.542104\n",
       "8647     8667.497512\n",
       "2397     8667.454421\n",
       "472      8667.304968\n",
       "11653    8666.701504\n",
       "            ...     \n",
       "8982        0.000000\n",
       "7009        0.000000\n",
       "4769        0.000000\n",
       "3711        0.000000\n",
       "12478       0.000000\n",
       "Name: distance, Length: 15901, dtype: float64"
      ]
     },
     "execution_count": 53,
     "metadata": {},
     "output_type": "execute_result"
    }
   ],
   "source": [
    "#Check for outliers in distance since std is very high\n",
    "train_data['distance'].sort_values(ascending=False)"
   ]
  },
  {
   "cell_type": "code",
   "execution_count": 60,
   "id": "9b663748",
   "metadata": {},
   "outputs": [
    {
     "name": "stdout",
     "output_type": "stream",
     "text": [
      "9147     8667.542104\n",
      "8647     8667.497512\n",
      "2397     8667.454421\n",
      "472      8667.304968\n",
      "11653    8666.701504\n",
      "13340    8666.613646\n",
      "10215    8666.584706\n",
      "4597     8666.566030\n",
      "10458    8665.976222\n",
      "10672    8665.702390\n",
      "10488    8665.555634\n",
      "1260     8665.268588\n",
      "4278     8665.223767\n",
      "6188     8664.191488\n",
      "12983    8664.131808\n",
      "6302     8663.039123\n",
      "12705    8661.362152\n",
      "14197    8657.136619\n",
      "15783    8656.714168\n",
      "15749    6028.926779\n",
      "2280     6026.494216\n",
      "5864     5420.988959\n",
      "7014     4447.086698\n",
      "10710     129.950482\n",
      "14536     129.560455\n",
      "11619     127.509261\n",
      "12228     123.561157\n",
      "5663      101.094619\n",
      "1684       99.771579\n",
      "3075       97.985088\n",
      "Name: distance, dtype: float64\n"
     ]
    }
   ],
   "source": [
    "f=train_data['distance'].sort_values(ascending=False)\n",
    "print(f[:30])"
   ]
  },
  {
   "cell_type": "code",
   "execution_count": 62,
   "id": "ffffece5",
   "metadata": {},
   "outputs": [
    {
     "name": "stdout",
     "output_type": "stream",
     "text": [
      "2542     0.0\n",
      "13656    0.0\n",
      "11486    0.0\n",
      "14440    0.0\n",
      "4240     0.0\n",
      "396      0.0\n",
      "4740     0.0\n",
      "1774     0.0\n",
      "12498    0.0\n",
      "9661     0.0\n",
      "7004     0.0\n",
      "9386     0.0\n",
      "10901    0.0\n",
      "1222     0.0\n",
      "4777     0.0\n",
      "10003    0.0\n",
      "13713    0.0\n",
      "5586     0.0\n",
      "1704     0.0\n",
      "7023     0.0\n",
      "1723     0.0\n",
      "6349     0.0\n",
      "13677    0.0\n",
      "10017    0.0\n",
      "5045     0.0\n",
      "8982     0.0\n",
      "7009     0.0\n",
      "4769     0.0\n",
      "3711     0.0\n",
      "12478    0.0\n",
      "Name: distance, dtype: float64\n"
     ]
    }
   ],
   "source": [
    "print(f[-30:])"
   ]
  },
  {
   "cell_type": "code",
   "execution_count": 63,
   "id": "babefc1a",
   "metadata": {},
   "outputs": [],
   "source": [
    "#Affter the 23rd position there is a huge gap between the distances which shows that, values above are 130 are illogical\n",
    "#, hence misplaced\n",
    "# And apparently, there are lot of distances whose value is 0.\n",
    "train_data=train_data.drop(train_data[train_data['distance']>130].index,axis=0)\n",
    "train_data=train_data.drop(train_data[train_data['distance']==0].index,axis=0)"
   ]
  },
  {
   "cell_type": "code",
   "execution_count": 64,
   "id": "a3d5fb33",
   "metadata": {},
   "outputs": [
    {
     "data": {
      "text/plain": [
       "(15424, 14)"
      ]
     },
     "execution_count": 64,
     "metadata": {},
     "output_type": "execute_result"
    }
   ],
   "source": [
    "train_data.shape"
   ]
  },
  {
   "cell_type": "code",
   "execution_count": 65,
   "id": "5f51cdb5",
   "metadata": {},
   "outputs": [],
   "source": [
    "#Dropping the extra columns.\n",
    "drop=['pickup_longitude','pickup_latitude','dropoff_longitude','dropoff_latitude','pickup_datetime']\n",
    "train_data=train_data.drop(drop,axis=1)"
   ]
  },
  {
   "cell_type": "code",
   "execution_count": 68,
   "id": "838c82e9",
   "metadata": {},
   "outputs": [],
   "source": [
    "train_data=train_data.drop(['minute'],axis=1)"
   ]
  },
  {
   "cell_type": "code",
   "execution_count": 69,
   "id": "943f9466",
   "metadata": {},
   "outputs": [
    {
     "data": {
      "text/plain": [
       "(15424, 8)"
      ]
     },
     "execution_count": 69,
     "metadata": {},
     "output_type": "execute_result"
    }
   ],
   "source": [
    "train_data.shape"
   ]
  },
  {
   "cell_type": "code",
   "execution_count": 70,
   "id": "3064eb4f",
   "metadata": {},
   "outputs": [
    {
     "data": {
      "text/plain": [
       "fare_amount        float64\n",
       "passenger_count    float64\n",
       "year               float64\n",
       "month              float64\n",
       "date               float64\n",
       "day                float64\n",
       "hour               float64\n",
       "distance           float64\n",
       "dtype: object"
      ]
     },
     "execution_count": 70,
     "metadata": {},
     "output_type": "execute_result"
    }
   ],
   "source": [
    "train_data.dtypes"
   ]
  },
  {
   "cell_type": "code",
   "execution_count": 71,
   "id": "9fabda01",
   "metadata": {},
   "outputs": [
    {
     "data": {
      "text/plain": [
       "pickup_datetime      datetime64[ns]\n",
       "pickup_longitude            float64\n",
       "pickup_latitude             float64\n",
       "dropoff_longitude           float64\n",
       "dropoff_latitude            float64\n",
       "passenger_count               int64\n",
       "year                          int64\n",
       "month                         int64\n",
       "date                          int64\n",
       "day                           int64\n",
       "hour                          int64\n",
       "minute                        int64\n",
       "distance                    float64\n",
       "dtype: object"
      ]
     },
     "execution_count": 71,
     "metadata": {},
     "output_type": "execute_result"
    }
   ],
   "source": [
    "test_data.dtypes"
   ]
  },
  {
   "cell_type": "code",
   "execution_count": 73,
   "id": "d08f6ab9",
   "metadata": {},
   "outputs": [],
   "source": [
    "#We need to convert dtypes of train_data to int64.\n",
    "train_data['passenger_count'] = train_data['passenger_count'].astype('int64')\n",
    "train_data['year'] = train_data['year'].astype('int64')\n",
    "train_data['month'] = train_data['month'].astype('int64')\n",
    "train_data['date'] = train_data['date'].astype('int64')\n",
    "train_data['day'] = train_data['day'].astype('int64')\n",
    "train_data['hour'] = train_data['hour'].astype('int64')"
   ]
  },
  {
   "cell_type": "code",
   "execution_count": 74,
   "id": "6184b2b7",
   "metadata": {},
   "outputs": [
    {
     "data": {
      "text/plain": [
       "fare_amount        float64\n",
       "passenger_count      int64\n",
       "year                 int64\n",
       "month                int64\n",
       "date                 int64\n",
       "day                  int64\n",
       "hour                 int64\n",
       "distance           float64\n",
       "dtype: object"
      ]
     },
     "execution_count": 74,
     "metadata": {},
     "output_type": "execute_result"
    }
   ],
   "source": [
    "train_data.dtypes"
   ]
  },
  {
   "cell_type": "code",
   "execution_count": 75,
   "id": "d4ba6551",
   "metadata": {},
   "outputs": [],
   "source": [
    "drop=['pickup_longitude','pickup_latitude','dropoff_longitude','dropoff_latitude','pickup_datetime','minute']\n",
    "test_data=test_data.drop(drop,axis=1)"
   ]
  },
  {
   "cell_type": "markdown",
   "id": "29764963",
   "metadata": {},
   "source": [
    "## Feature scaling with visualization"
   ]
  },
  {
   "cell_type": "code",
   "execution_count": 77,
   "id": "71a63e05",
   "metadata": {},
   "outputs": [
    {
     "name": "stdout",
     "output_type": "stream",
     "text": [
      "fare_amount\n"
     ]
    },
    {
     "name": "stderr",
     "output_type": "stream",
     "text": [
      "c:\\users\\dell\\appdata\\local\\programs\\python\\python39\\lib\\site-packages\\seaborn\\distributions.py:2557: FutureWarning: `distplot` is a deprecated function and will be removed in a future version. Please adapt your code to use either `displot` (a figure-level function with similar flexibility) or `histplot` (an axes-level function for histograms).\n",
      "  warnings.warn(msg, FutureWarning)\n"
     ]
    },
    {
     "data": {
      "image/png": "[encoded data removed]",
      "text/plain": [
       "<Figure size 432x288 with 1 Axes>"
      ]
     },
     "metadata": {
      "needs_background": "light"
     },
     "output_type": "display_data"
    },
    {
     "name": "stdout",
     "output_type": "stream",
     "text": [
      "distance\n"
     ]
    },
    {
     "name": "stderr",
     "output_type": "stream",
     "text": [
      "c:\\users\\dell\\appdata\\local\\programs\\python\\python39\\lib\\site-packages\\seaborn\\distributions.py:2557: FutureWarning: `distplot` is a deprecated function and will be removed in a future version. Please adapt your code to use either `displot` (a figure-level function with similar flexibility) or `histplot` (an axes-level function for histograms).\n",
      "  warnings.warn(msg, FutureWarning)\n"
     ]
    },
    {
     "data": {
      "image/png": "[encoded data removed]",
      "text/plain": [
       "<Figure size 432x288 with 1 Axes>"
      ]
     },
     "metadata": {
      "needs_background": "light"
     },
     "output_type": "display_data"
    }
   ],
   "source": [
    "for i in ['fare_amount', 'distance']:\n",
    "    print(i)\n",
    "    sns.distplot(train_data[i],bins='auto',color='green')\n",
    "    plt.title(\"Distribution for Variable \"+i)\n",
    "    plt.ylabel(\"Density\")\n",
    "    plt.show()"
   ]
  },
  {
   "cell_type": "code",
   "execution_count": 79,
   "id": "90b3fa93",
   "metadata": {},
   "outputs": [],
   "source": [
    "#Since the data is highly skewered, we need to apply log transform to the data\n",
    "train_data['fare_amount'] = np.log1p(train_data['fare_amount'])\n",
    "train_data['distance'] = np.log1p(train_data['distance'])"
   ]
  },
  {
   "cell_type": "code",
   "execution_count": 80,
   "id": "bacbccff",
   "metadata": {},
   "outputs": [
    {
     "name": "stdout",
     "output_type": "stream",
     "text": [
      "fare_amount\n"
     ]
    },
    {
     "name": "stderr",
     "output_type": "stream",
     "text": [
      "c:\\users\\dell\\appdata\\local\\programs\\python\\python39\\lib\\site-packages\\seaborn\\distributions.py:2557: FutureWarning: `distplot` is a deprecated function and will be removed in a future version. Please adapt your code to use either `displot` (a figure-level function with similar flexibility) or `histplot` (an axes-level function for histograms).\n",
      "  warnings.warn(msg, FutureWarning)\n"
     ]
    },
    {
     "data": {
      "image/png": "[encoded data removed]",
      "text/plain": [
       "<Figure size 432x288 with 1 Axes>"
      ]
     },
     "metadata": {
      "needs_background": "light"
     },
     "output_type": "display_data"
    },
    {
     "name": "stdout",
     "output_type": "stream",
     "text": [
      "distance\n"
     ]
    },
    {
     "name": "stderr",
     "output_type": "stream",
     "text": [
      "c:\\users\\dell\\appdata\\local\\programs\\python\\python39\\lib\\site-packages\\seaborn\\distributions.py:2557: FutureWarning: `distplot` is a deprecated function and will be removed in a future version. Please adapt your code to use either `displot` (a figure-level function with similar flexibility) or `histplot` (an axes-level function for histograms).\n",
      "  warnings.warn(msg, FutureWarning)\n"
     ]
    },
    {
     "data": {
      "image/png": "[encoded data removed]",
      "text/plain": [
       "<Figure size 432x288 with 1 Axes>"
      ]
     },
     "metadata": {
      "needs_background": "light"
     },
     "output_type": "display_data"
    }
   ],
   "source": [
    "for i in ['fare_amount', 'distance']:\n",
    "    print(i)\n",
    "    sns.distplot(train_data[i],bins='auto',color='green')\n",
    "    plt.title(\"Distribution for Variable \"+i)\n",
    "    plt.ylabel(\"Density\")\n",
    "    plt.show()"
   ]
  },
  {
   "cell_type": "code",
   "execution_count": 82,
   "id": "49e6c619",
   "metadata": {},
   "outputs": [
    {
     "name": "stderr",
     "output_type": "stream",
     "text": [
      "c:\\users\\dell\\appdata\\local\\programs\\python\\python39\\lib\\site-packages\\seaborn\\distributions.py:2557: FutureWarning: `distplot` is a deprecated function and will be removed in a future version. Please adapt your code to use either `displot` (a figure-level function with similar flexibility) or `histplot` (an axes-level function for histograms).\n",
      "  warnings.warn(msg, FutureWarning)\n"
     ]
    },
    {
     "data": {
      "image/png": "[encoded data removed]",
      "text/plain": [
       "<Figure size 432x288 with 1 Axes>"
      ]
     },
     "metadata": {
      "needs_background": "light"
     },
     "output_type": "display_data"
    }
   ],
   "source": [
    "#Normality check for test data is uniformly distributed or not-\n",
    "\n",
    "sns.distplot(test_data['distance'],bins='auto',color='green')\n",
    "plt.title(\"Distribution for Variable \"+i)\n",
    "plt.ylabel(\"Density\")\n",
    "plt.show()"
   ]
  },
  {
   "cell_type": "code",
   "execution_count": 83,
   "id": "e8716d18",
   "metadata": {},
   "outputs": [],
   "source": [
    "#Doing the same for test_data \n",
    "test_data['distance'] = np.log1p(test_data['distance'])"
   ]
  },
  {
   "cell_type": "code",
   "execution_count": 85,
   "id": "23d5f6fd",
   "metadata": {},
   "outputs": [
    {
     "name": "stderr",
     "output_type": "stream",
     "text": [
      "c:\\users\\dell\\appdata\\local\\programs\\python\\python39\\lib\\site-packages\\seaborn\\distributions.py:2557: FutureWarning: `distplot` is a deprecated function and will be removed in a future version. Please adapt your code to use either `displot` (a figure-level function with similar flexibility) or `histplot` (an axes-level function for histograms).\n",
      "  warnings.warn(msg, FutureWarning)\n"
     ]
    },
    {
     "data": {
      "image/png": "[encoded data removed]",
      "text/plain": [
       "<Figure size 432x288 with 1 Axes>"
      ]
     },
     "metadata": {
      "needs_background": "light"
     },
     "output_type": "display_data"
    }
   ],
   "source": [
    "sns.distplot(test_data['distance'],bins='auto',color='green')\n",
    "plt.title(\"Distribution for Variable \"+i)\n",
    "plt.ylabel(\"Density\")\n",
    "plt.show()"
   ]
  }
 ],
 "metadata": {
  "kernelspec": {
   "display_name": "Python 3 (ipykernel)",
   "language": "python",
   "name": "python3"
  },
  "language_info": {
   "codemirror_mode": {
    "name": "ipython",
    "version": 3
   },
   "file_extension": ".py",
   "mimetype": "text/x-python",
   "name": "python",
   "nbconvert_exporter": "python",
   "pygments_lexer": "ipython3",
   "version": "3.9.2"
  }
 },
 "nbformat": 4,
 "nbformat_minor": 5
}
